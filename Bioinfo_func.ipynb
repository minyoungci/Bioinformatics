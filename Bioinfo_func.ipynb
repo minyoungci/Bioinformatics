{
 "cells": [
  {
   "cell_type": "code",
   "execution_count": 4,
   "metadata": {},
   "outputs": [],
   "source": [
    "def validate_dna(dna_seq):\n",
    "    seqm = dna_seq.upper()\n",
    "    valid = seqm.count(\"A\") + seqm.count(\"T\") + seqm.count(\"G\") + seqm.count(\"C\")\n",
    "    if valid == len(seqm) : return True\n",
    "    else: return False"
   ]
  },
  {
   "cell_type": "code",
   "execution_count": 5,
   "metadata": {},
   "outputs": [
    {
     "data": {
      "text/plain": [
       "True"
      ]
     },
     "execution_count": 5,
     "metadata": {},
     "output_type": "execute_result"
    }
   ],
   "source": [
    "validate_dna(\"atatataataagggggcc\")"
   ]
  },
  {
   "cell_type": "code",
   "execution_count": 9,
   "metadata": {},
   "outputs": [],
   "source": [
    "def frequency(seq):\n",
    "    dic = {}\n",
    "    for s in seq.upper():\n",
    "        print(s)\n",
    "        if s in dic: dic[s] += 1\n",
    "        else: dic[s] = 1\n",
    "        print(dic)\n",
    "    return dic"
   ]
  },
  {
   "cell_type": "code",
   "execution_count": 10,
   "metadata": {},
   "outputs": [
    {
     "name": "stdout",
     "output_type": "stream",
     "text": [
      "A\n",
      "{'A': 1}\n",
      "T\n",
      "{'A': 1, 'T': 1}\n",
      "A\n",
      "{'A': 2, 'T': 1}\n",
      "T\n",
      "{'A': 2, 'T': 2}\n",
      "A\n",
      "{'A': 3, 'T': 2}\n",
      "T\n",
      "{'A': 3, 'T': 3}\n",
      "A\n",
      "{'A': 4, 'T': 3}\n",
      "A\n",
      "{'A': 5, 'T': 3}\n",
      "T\n",
      "{'A': 5, 'T': 4}\n",
      "A\n",
      "{'A': 6, 'T': 4}\n",
      "A\n",
      "{'A': 7, 'T': 4}\n",
      "G\n",
      "{'A': 7, 'T': 4, 'G': 1}\n",
      "G\n",
      "{'A': 7, 'T': 4, 'G': 2}\n",
      "G\n",
      "{'A': 7, 'T': 4, 'G': 3}\n",
      "G\n",
      "{'A': 7, 'T': 4, 'G': 4}\n",
      "G\n",
      "{'A': 7, 'T': 4, 'G': 5}\n",
      "C\n",
      "{'A': 7, 'T': 4, 'G': 5, 'C': 1}\n",
      "C\n",
      "{'A': 7, 'T': 4, 'G': 5, 'C': 2}\n"
     ]
    },
    {
     "data": {
      "text/plain": [
       "{'A': 7, 'T': 4, 'G': 5, 'C': 2}"
      ]
     },
     "execution_count": 10,
     "metadata": {},
     "output_type": "execute_result"
    }
   ],
   "source": [
    "frequency(\"atatataataagggggcc\") "
   ]
  }
 ],
 "metadata": {
  "kernelspec": {
   "display_name": "Python 3",
   "language": "python",
   "name": "python3"
  },
  "language_info": {
   "codemirror_mode": {
    "name": "ipython",
    "version": 3
   },
   "file_extension": ".py",
   "mimetype": "text/x-python",
   "name": "python",
   "nbconvert_exporter": "python",
   "pygments_lexer": "ipython3",
   "version": "3.10.12"
  }
 },
 "nbformat": 4,
 "nbformat_minor": 2
}
